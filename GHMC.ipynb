{
 "cells": [
  {
   "cell_type": "markdown",
   "id": "6b2b19b6",
   "metadata": {},
   "source": [
    "# Geodesic Hamiltonian Monte Carlo (GHMC)"
   ]
  },
  {
   "cell_type": "code",
   "execution_count": null,
   "id": "b93e3aee",
   "metadata": {
    "vscode": {
     "languageId": "plaintext"
    }
   },
   "outputs": [],
   "source": []
  },
  {
   "cell_type": "code",
   "execution_count": null,
   "id": "06d3cc13",
   "metadata": {
    "vscode": {
     "languageId": "plaintext"
    }
   },
   "outputs": [],
   "source": []
  }
 ],
 "metadata": {
  "language_info": {
   "name": "python"
  }
 },
 "nbformat": 4,
 "nbformat_minor": 5
}
