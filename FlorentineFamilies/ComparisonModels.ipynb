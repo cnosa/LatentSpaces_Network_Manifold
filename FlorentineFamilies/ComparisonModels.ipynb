{
 "cells": [
  {
   "cell_type": "markdown",
   "id": "ac46c654",
   "metadata": {},
   "source": [
    "# Latent space model for Networks: $\\mathbb{R}^2$, $\\mathbb{R}^3$, $\\mathbb{S}^1$ and $\\mathbb{S}^2$\n",
    "## Florentine families"
   ]
  },
  {
   "cell_type": "markdown",
   "id": "274e3160",
   "metadata": {},
   "source": [
    "## Model"
   ]
  },
  {
   "cell_type": "markdown",
   "id": "9fd8cfe6",
   "metadata": {},
   "source": [
    "Table of degree of freedom, generalized linear model, distance o simmilarity"
   ]
  },
  {
   "cell_type": "markdown",
   "id": "5ec50478",
   "metadata": {},
   "source": [
    "## Point estimators: ML, MAP, CM"
   ]
  },
  {
   "cell_type": "markdown",
   "id": "bd536a61",
   "metadata": {},
   "source": [
    "## Posterior predictive checking"
   ]
  },
  {
   "cell_type": "markdown",
   "id": "95c5e8b1",
   "metadata": {},
   "source": [
    "## Model comparison criteria"
   ]
  },
  {
   "cell_type": "markdown",
   "id": "3d46914c",
   "metadata": {},
   "source": [
    "## Sociomatrix"
   ]
  },
  {
   "cell_type": "markdown",
   "id": "164cd4d7",
   "metadata": {},
   "source": [
    "## Prediction evaluation"
   ]
  }
 ],
 "metadata": {
  "language_info": {
   "name": "python"
  }
 },
 "nbformat": 4,
 "nbformat_minor": 5
}
